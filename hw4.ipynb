{
  "nbformat": 4,
  "nbformat_minor": 0,
  "metadata": {
    "colab": {
      "provenance": [],
      "mount_file_id": "1wXfLaAo_2pEmmsMHCKWAUtjtTo0ZrRJk",
      "authorship_tag": "ABX9TyPsKAkKbKlsGaAxEc1pXB7n",
      "include_colab_link": true
    },
    "kernelspec": {
      "name": "python3",
      "display_name": "Python 3"
    },
    "language_info": {
      "name": "python"
    }
  },
  "cells": [
    {
      "cell_type": "markdown",
      "metadata": {
        "id": "view-in-github",
        "colab_type": "text"
      },
      "source": [
        "<a href=\"https://colab.research.google.com/github/ZhuolunZhong/Tutorial-Graphing-a-semantic-network/blob/master/hw4.ipynb\" target=\"_parent\"><img src=\"https://colab.research.google.com/assets/colab-badge.svg\" alt=\"Open In Colab\"/></a>"
      ]
    },
    {
      "cell_type": "markdown",
      "source": [
        "# Introduction\n",
        "The model and the code refers to the following URL\n",
        "\n",
        "https://www.tensorflow.org/datasets/keras_example\n",
        "\n",
        "https://github.com/eesgetdegrees/plot-cost-function-of-keras-model/tree/main\n",
        "\n",
        "https://www.youtube.com/watch?v=wQ8BIBpya2k\n",
        "\n",
        "https://www.youtube.com/watch?v=eU0FFjYumCI\n",
        "\n",
        "The model is build to fit MNIST dataset for written number reconization. The input is array of numbers represent the location (28*28) and the color(0-255, 0=white,255=black) of the written number. The output is the written number (0-9).\n",
        "\n",
        "For the better perfermance for training, the color number are normalized and cached. For randomness, the input pattern also used shuffle and batch.\n",
        "\n",
        "Output pattern just follow the dataset as 0-9.\n",
        "\n",
        "The model is trained with 2 hidden layers and each with 256 units."
      ],
      "metadata": {
        "id": "WpITPYrPRQw-"
      }
    },
    {
      "cell_type": "code",
      "execution_count": 1,
      "metadata": {
        "id": "RRLaJWhcMkuH"
      },
      "outputs": [],
      "source": [
        "import tensorflow as tf\n",
        "import tensorflow_datasets as tfds\n",
        "import matplotlib.pyplot as plt"
      ]
    },
    {
      "cell_type": "markdown",
      "source": [
        "## Load the dataset"
      ],
      "metadata": {
        "id": "1lyuY_0dkh_6"
      }
    },
    {
      "cell_type": "code",
      "source": [
        "(ds_train, ds_test), ds_info = tfds.load(\n",
        "    'mnist',\n",
        "    split=['train', 'test'],\n",
        "    shuffle_files=True,\n",
        "    as_supervised=True,\n",
        "    with_info=True,\n",
        ")"
      ],
      "metadata": {
        "id": "LTj08sQCNGpE"
      },
      "execution_count": 3,
      "outputs": []
    },
    {
      "cell_type": "markdown",
      "source": [
        "## Build a training pipeline"
      ],
      "metadata": {
        "id": "jVftHwsVkqFg"
      }
    },
    {
      "cell_type": "code",
      "source": [
        "def normalize_img(image, label):\n",
        "  return tf.cast(image, tf.float32) / 255., label\n",
        "\n",
        "ds_train = ds_train.map(\n",
        "    normalize_img, num_parallel_calls=tf.data.AUTOTUNE)\n",
        "ds_train = ds_train.cache()\n",
        "ds_train = ds_train.shuffle(ds_info.splits['train'].num_examples)\n",
        "ds_train = ds_train.batch(128)\n",
        "ds_train = ds_train.prefetch(tf.data.AUTOTUNE)"
      ],
      "metadata": {
        "id": "1gicQq5ENH_x"
      },
      "execution_count": 4,
      "outputs": []
    },
    {
      "cell_type": "markdown",
      "source": [
        "## Check image"
      ],
      "metadata": {
        "id": "2SLiqUB8kxNy"
      }
    },
    {
      "cell_type": "code",
      "source": [
        "import matplotlib.pyplot as plt\n",
        "plt.imshow(list(ds_train)[5][0][5])"
      ],
      "metadata": {
        "colab": {
          "base_uri": "https://localhost:8080/",
          "height": 448
        },
        "id": "yfL6zhvPNeCh",
        "outputId": "f5163280-364a-40f1-92e4-60640110efc7"
      },
      "execution_count": 10,
      "outputs": [
        {
          "output_type": "execute_result",
          "data": {
            "text/plain": [
              "<matplotlib.image.AxesImage at 0x7d975816cac0>"
            ]
          },
          "metadata": {},
          "execution_count": 10
        },
        {
          "output_type": "display_data",
          "data": {
            "text/plain": [
              "<Figure size 640x480 with 1 Axes>"
            ],
            "image/png": "[encoded data removed]"
          },
          "metadata": {}
        }
      ]
    },
    {
      "cell_type": "markdown",
      "source": [
        "## Build an evaluation pipeline"
      ],
      "metadata": {
        "id": "YYT6iJQ-k3JD"
      }
    },
    {
      "cell_type": "code",
      "source": [
        "ds_test = ds_test.map(\n",
        "    normalize_img, num_parallel_calls=tf.data.AUTOTUNE)\n",
        "ds_test = ds_test.batch(128)\n",
        "ds_test = ds_test.cache()\n",
        "ds_test = ds_test.prefetch(tf.data.AUTOTUNE)"
      ],
      "metadata": {
        "id": "ElOOS-STNuX7"
      },
      "execution_count": 11,
      "outputs": []
    },
    {
      "cell_type": "markdown",
      "source": [
        "## Create and train the model"
      ],
      "metadata": {
        "id": "0QmY_IVWk8HO"
      }
    },
    {
      "cell_type": "code",
      "source": [
        "model = tf.keras.models.Sequential([\n",
        "  tf.keras.layers.Flatten(input_shape=(28, 28)),\n",
        "  tf.keras.layers.Dense(256, activation='relu'),\n",
        "  tf.keras.layers.Dense(256, activation='relu'),\n",
        "  tf.keras.layers.Dense(10, activation='softmax')\n",
        "])\n",
        "model.compile(\n",
        "    optimizer=tf.keras.optimizers.Adam(.001),\n",
        "    loss=tf.keras.losses.SparseCategoricalCrossentropy(),\n",
        "    metrics=[tf.keras.metrics.SparseCategoricalAccuracy()],\n",
        ")\n",
        "\n",
        "mfit = model.fit(\n",
        "    ds_train,\n",
        "    epochs=15,\n",
        "    validation_data=ds_test,\n",
        ")"
      ],
      "metadata": {
        "colab": {
          "base_uri": "https://localhost:8080/"
        },
        "id": "Wb4TFqMLNx3x",
        "outputId": "a47fef54-6d29-4ff2-f06c-4eb20be7b51d"
      },
      "execution_count": 32,
      "outputs": [
        {
          "output_type": "stream",
          "name": "stdout",
          "text": [
            "Epoch 1/15\n",
            "469/469 [==============================] - 10s 18ms/step - loss: 0.2615 - sparse_categorical_accuracy: 0.9237 - val_loss: 0.1271 - val_sparse_categorical_accuracy: 0.9599\n",
            "Epoch 2/15\n",
            "469/469 [==============================] - 10s 21ms/step - loss: 0.1000 - sparse_categorical_accuracy: 0.9694 - val_loss: 0.0898 - val_sparse_categorical_accuracy: 0.9717\n",
            "Epoch 3/15\n",
            "469/469 [==============================] - 8s 17ms/step - loss: 0.0644 - sparse_categorical_accuracy: 0.9797 - val_loss: 0.0803 - val_sparse_categorical_accuracy: 0.9743\n",
            "Epoch 4/15\n",
            "469/469 [==============================] - 8s 16ms/step - loss: 0.0452 - sparse_categorical_accuracy: 0.9855 - val_loss: 0.0738 - val_sparse_categorical_accuracy: 0.9773\n",
            "Epoch 5/15\n",
            "469/469 [==============================] - 10s 21ms/step - loss: 0.0354 - sparse_categorical_accuracy: 0.9886 - val_loss: 0.0721 - val_sparse_categorical_accuracy: 0.9773\n",
            "Epoch 6/15\n",
            "469/469 [==============================] - 7s 14ms/step - loss: 0.0260 - sparse_categorical_accuracy: 0.9919 - val_loss: 0.0681 - val_sparse_categorical_accuracy: 0.9805\n",
            "Epoch 7/15\n",
            "469/469 [==============================] - 5s 11ms/step - loss: 0.0207 - sparse_categorical_accuracy: 0.9935 - val_loss: 0.0787 - val_sparse_categorical_accuracy: 0.9765\n",
            "Epoch 8/15\n",
            "469/469 [==============================] - 5s 10ms/step - loss: 0.0171 - sparse_categorical_accuracy: 0.9945 - val_loss: 0.0806 - val_sparse_categorical_accuracy: 0.9768\n",
            "Epoch 9/15\n",
            "469/469 [==============================] - 6s 13ms/step - loss: 0.0151 - sparse_categorical_accuracy: 0.9948 - val_loss: 0.0923 - val_sparse_categorical_accuracy: 0.9767\n",
            "Epoch 10/15\n",
            "469/469 [==============================] - 5s 10ms/step - loss: 0.0152 - sparse_categorical_accuracy: 0.9951 - val_loss: 0.0792 - val_sparse_categorical_accuracy: 0.9809\n",
            "Epoch 11/15\n",
            "469/469 [==============================] - 5s 10ms/step - loss: 0.0109 - sparse_categorical_accuracy: 0.9962 - val_loss: 0.0845 - val_sparse_categorical_accuracy: 0.9791\n",
            "Epoch 12/15\n",
            "469/469 [==============================] - 7s 14ms/step - loss: 0.0138 - sparse_categorical_accuracy: 0.9954 - val_loss: 0.0813 - val_sparse_categorical_accuracy: 0.9797\n",
            "Epoch 13/15\n",
            "469/469 [==============================] - 5s 10ms/step - loss: 0.0106 - sparse_categorical_accuracy: 0.9964 - val_loss: 0.0910 - val_sparse_categorical_accuracy: 0.9799\n",
            "Epoch 14/15\n",
            "469/469 [==============================] - 5s 10ms/step - loss: 0.0103 - sparse_categorical_accuracy: 0.9963 - val_loss: 0.0944 - val_sparse_categorical_accuracy: 0.9802\n",
            "Epoch 15/15\n",
            "469/469 [==============================] - 7s 14ms/step - loss: 0.0082 - sparse_categorical_accuracy: 0.9971 - val_loss: 0.0907 - val_sparse_categorical_accuracy: 0.9800\n"
          ]
        }
      ]
    },
    {
      "cell_type": "markdown",
      "source": [
        "## Plotting the learning trajectory and check the test accuracy"
      ],
      "metadata": {
        "id": "y1wMKTnnlEoW"
      }
    },
    {
      "cell_type": "code",
      "source": [
        "loss, acc = model.evaluate(ds_test)\n",
        "plt.plot(mfit.history['sparse_categorical_accuracy'])"
      ],
      "metadata": {
        "colab": {
          "base_uri": "https://localhost:8080/",
          "height": 469
        },
        "id": "4LuGpgOWTQnU",
        "outputId": "86669d2b-a599-4d02-8931-139c020fa89d"
      },
      "execution_count": 34,
      "outputs": [
        {
          "output_type": "stream",
          "name": "stdout",
          "text": [
            "79/79 [==============================] - 0s 4ms/step - loss: 0.0907 - sparse_categorical_accuracy: 0.9800\n"
          ]
        },
        {
          "output_type": "execute_result",
          "data": {
            "text/plain": [
              "[<matplotlib.lines.Line2D at 0x7d973dc04ac0>]"
            ]
          },
          "metadata": {},
          "execution_count": 34
        },
        {
          "output_type": "display_data",
          "data": {
            "text/plain": [
              "<Figure size 640x480 with 1 Axes>"
            ],
            "image/png": "[encoded data removed]"
          },
          "metadata": {}
        }
      ]
    },
    {
      "cell_type": "markdown",
      "source": [
        "## Check the prediction"
      ],
      "metadata": {
        "id": "sa3EW-AplMBC"
      }
    },
    {
      "cell_type": "code",
      "source": [
        "import matplotlib.pyplot as plt\n",
        "plt.imshow(list(ds_test)[5][0][5])\n",
        "import numpy as np\n",
        "np.argmax(model.predict(np.array(list(ds_test)[5][0][5]).reshape(1, 28, 28)))"
      ],
      "metadata": {
        "colab": {
          "base_uri": "https://localhost:8080/",
          "height": 467
        },
        "id": "X4VrdeV4PxGQ",
        "outputId": "b8a87043-f8b9-4052-cab0-41dcb44aafa3"
      },
      "execution_count": 27,
      "outputs": [
        {
          "output_type": "stream",
          "name": "stdout",
          "text": [
            "1/1 [==============================] - 1s 616ms/step\n"
          ]
        },
        {
          "output_type": "execute_result",
          "data": {
            "text/plain": [
              "0"
            ]
          },
          "metadata": {},
          "execution_count": 27
        },
        {
          "output_type": "display_data",
          "data": {
            "text/plain": [
              "<Figure size 640x480 with 1 Axes>"
            ],
            "image/png": "[encoded data removed]"
          },
          "metadata": {}
        }
      ]
    }
  ]
}